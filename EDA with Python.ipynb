{
 "cells": [
  {
   "cell_type": "code",
   "execution_count": 6,
   "metadata": {},
   "outputs": [
    {
     "name": "stdout",
     "output_type": "stream",
     "text": [
      "Collecting pandas\n",
      "  Downloading pandas-1.0.3-cp36-cp36m-macosx_10_9_x86_64.whl (10.2 MB)\n",
      "\u001b[K     |████████████████████████████████| 10.2 MB 2.4 MB/s eta 0:00:01    |███▊                            | 1.2 MB 1.1 MB/s eta 0:00:09\n",
      "\u001b[?25hCollecting numpy>=1.13.3\n",
      "  Downloading numpy-1.18.2-cp36-cp36m-macosx_10_9_x86_64.whl (15.2 MB)\n",
      "\u001b[K     |████████████████████████████████| 15.2 MB 4.3 MB/s eta 0:00:01��█████▏| 14.8 MB 4.3 MB/s eta 0:00:01\n",
      "\u001b[?25hRequirement already satisfied: python-dateutil>=2.6.1 in /opt/anaconda3/envs/py36/lib/python3.6/site-packages (from pandas) (2.8.1)\n",
      "Collecting pytz>=2017.2\n",
      "  Using cached pytz-2019.3-py2.py3-none-any.whl (509 kB)\n",
      "Requirement already satisfied: six>=1.5 in /opt/anaconda3/envs/py36/lib/python3.6/site-packages (from python-dateutil>=2.6.1->pandas) (1.14.0)\n",
      "Installing collected packages: numpy, pytz, pandas\n",
      "Successfully installed numpy-1.18.2 pandas-1.0.3 pytz-2019.3\n"
     ]
    }
   ],
   "source": [
    "!pip install pandas"
   ]
  },
  {
   "cell_type": "code",
   "execution_count": 34,
   "metadata": {
    "scrolled": false
   },
   "outputs": [],
   "source": [
    "import json\n",
    "import requests\n",
    "import pandas as pd\n",
    "import io"
   ]
  },
  {
   "cell_type": "code",
   "execution_count": 9,
   "metadata": {},
   "outputs": [],
   "source": [
    "with open(\"cd.json\", \"r\") as read_file:\n",
    "    cred_data = json.load(read_file)"
   ]
  },
  {
   "cell_type": "code",
   "execution_count": 17,
   "metadata": {},
   "outputs": [
    {
     "data": {
      "text/plain": [
       "{'users_url': 'https://app.tellfinder.com/api/users?o=desc&p=0&s=creationDate&t=All',\n",
       " 'users_df': 'https://app.tellfinder.com/api/users/export?o=desc&s=creationDate&t=All',\n",
       " 'urs': 'https://app.tellfinder.com/api/users',\n",
       " 'orgs_url': 'https://app.tellfinder.com/api/organizations',\n",
       " 'events_url_beta': 'http://beta.tellfinder.com/api/reports/',\n",
       " 'events_url_app': 'http://app.tellfinder.com/api/reports/',\n",
       " 'survey_url': 'https://app.tellfinder.com/api/survey',\n",
       " 'key': 'eyJlbWFpbCI6ImRzbWFsbHNAdW5jaGFydGVkLnNvZnR3YXJlIiwidG9rZW5FeHBpcnkiOjE2MDExNDUyMjE5MjUsImNzcmYiOm51bGwsImFwaSI6dHJ1ZX0=.6fGX0dVANASPbfkU/MMrZ1C1EqAiCH91n+tp0DguyF4=',\n",
       " 'beta_key': 'eyJlbWFpbCI6ImRzbWFsbHNAdW5jaGFydGVkLnNvZnR3YXJlIiwidG9rZW5FeHBpcnkiOjE2MTA1NzI2NjA1NDAsImNzcmYiOm51bGwsImFwaSI6dHJ1ZX0=.VkMJqvU971ceQy9bPRTW30O5mHXq1sX0hQrQxRtWLME='}"
      ]
     },
     "execution_count": 17,
     "metadata": {},
     "output_type": "execute_result"
    }
   ],
   "source": [
    "cred_data[0]"
   ]
  },
  {
   "cell_type": "code",
   "execution_count": 16,
   "metadata": {
    "scrolled": true
   },
   "outputs": [
    {
     "data": {
      "text/plain": [
       "'https://app.tellfinder.com/api/users?o=desc&p=0&s=creationDate&t=All'"
      ]
     },
     "execution_count": 16,
     "metadata": {},
     "output_type": "execute_result"
    }
   ],
   "source": [
    "cred_data[0].get('users_url')"
   ]
  },
  {
   "cell_type": "code",
   "execution_count": 20,
   "metadata": {},
   "outputs": [],
   "source": [
    "endpoint= cred_data[0].get('users_df')\n",
    "head = {\"Authorization\": \"Bearer \" + cred_data[0].get('key')}"
   ]
  },
  {
   "cell_type": "code",
   "execution_count": 21,
   "metadata": {},
   "outputs": [],
   "source": [
    "resp = requests.get(endpoint, headers=head)"
   ]
  },
  {
   "cell_type": "code",
   "execution_count": 29,
   "metadata": {},
   "outputs": [
    {
     "data": {
      "text/plain": [
       "'text/csv'"
      ]
     },
     "execution_count": 29,
     "metadata": {},
     "output_type": "execute_result"
    }
   ],
   "source": [
    "resp.headers['Content-Type']"
   ]
  },
  {
   "cell_type": "code",
   "execution_count": 37,
   "metadata": {},
   "outputs": [],
   "source": [
    "urlContent = resp.content\n",
    "usrData= pd.read_csv(io.StringIO(urlData.decode('utf-8')))"
   ]
  },
  {
   "cell_type": "code",
   "execution_count": null,
   "metadata": {
    "scrolled": false
   },
   "outputs": [],
   "source": [
    "usrData[usrData.isEnabled == True][['Email']]"
   ]
  },
  {
   "cell_type": "code",
   "execution_count": 69,
   "metadata": {},
   "outputs": [
    {
     "data": {
      "text/plain": [
       "DHS ICE / HSI                                                        74\n",
       "Uncharted                                                            65\n",
       "Federal Bureau of Investigation (FBI)                                50\n",
       "Cook County Police Department                                        43\n",
       "New York Police Department (NYPD)                                    35\n",
       "                                                                     ..\n",
       "South Wales Police                                                    1\n",
       "City of West Sacramento                                               1\n",
       "Oakland Police Department                                             1\n",
       "San Jose Police Department                                            1\n",
       "Saint Paul Police Department and Bureau of Criminal Apprehension      1\n",
       "Name: Organizations, Length: 290, dtype: int64"
      ]
     },
     "execution_count": 69,
     "metadata": {},
     "output_type": "execute_result"
    }
   ],
   "source": [
    "usrData['Organizations'].value_counts()"
   ]
  },
  {
   "cell_type": "code",
   "execution_count": 66,
   "metadata": {},
   "outputs": [
    {
     "data": {
      "text/html": [
       "<div>\n",
       "<style scoped>\n",
       "    .dataframe tbody tr th:only-of-type {\n",
       "        vertical-align: middle;\n",
       "    }\n",
       "\n",
       "    .dataframe tbody tr th {\n",
       "        vertical-align: top;\n",
       "    }\n",
       "\n",
       "    .dataframe thead th {\n",
       "        text-align: right;\n",
       "    }\n",
       "</style>\n",
       "<table border=\"1\" class=\"dataframe\">\n",
       "  <thead>\n",
       "    <tr style=\"text-align: right;\">\n",
       "      <th></th>\n",
       "      <th>Email</th>\n",
       "      <th>Roles</th>\n",
       "    </tr>\n",
       "  </thead>\n",
       "  <tbody>\n",
       "    <tr>\n",
       "      <th>0</th>\n",
       "      <td>cgarton@uncharted.software</td>\n",
       "      <td>User</td>\n",
       "    </tr>\n",
       "    <tr>\n",
       "      <th>1</th>\n",
       "      <td>YMWATSON@FBI.GOV</td>\n",
       "      <td>User</td>\n",
       "    </tr>\n",
       "    <tr>\n",
       "      <th>2</th>\n",
       "      <td>Alice.Gabanski-O'Connor@westyorkshire.police.uk</td>\n",
       "      <td>User</td>\n",
       "    </tr>\n",
       "    <tr>\n",
       "      <th>3</th>\n",
       "      <td>vernon.b.weibel@ice.dhs.gov</td>\n",
       "      <td>User</td>\n",
       "    </tr>\n",
       "    <tr>\n",
       "      <th>4</th>\n",
       "      <td>abottino@sacsheriff.com</td>\n",
       "      <td>User</td>\n",
       "    </tr>\n",
       "    <tr>\n",
       "      <th>...</th>\n",
       "      <td>...</td>\n",
       "      <td>...</td>\n",
       "    </tr>\n",
       "    <tr>\n",
       "      <th>1374</th>\n",
       "      <td>heather.k.capeles.civ@mail.mil</td>\n",
       "      <td>User</td>\n",
       "    </tr>\n",
       "    <tr>\n",
       "      <th>1375</th>\n",
       "      <td>michael.parris@westyorkshire.pnn.police.uk</td>\n",
       "      <td>User</td>\n",
       "    </tr>\n",
       "    <tr>\n",
       "      <th>1376</th>\n",
       "      <td>matthew.lavery@hampshire.pnn.police.uk</td>\n",
       "      <td>User</td>\n",
       "    </tr>\n",
       "    <tr>\n",
       "      <th>1377</th>\n",
       "      <td>SConley@grandforksgov.com</td>\n",
       "      <td>User</td>\n",
       "    </tr>\n",
       "    <tr>\n",
       "      <th>1378</th>\n",
       "      <td>shaun.martin@honolulu.gov</td>\n",
       "      <td>User</td>\n",
       "    </tr>\n",
       "  </tbody>\n",
       "</table>\n",
       "<p>1237 rows × 2 columns</p>\n",
       "</div>"
      ],
      "text/plain": [
       "                                                Email Roles\n",
       "0                          cgarton@uncharted.software  User\n",
       "1                                    YMWATSON@FBI.GOV  User\n",
       "2     Alice.Gabanski-O'Connor@westyorkshire.police.uk  User\n",
       "3                         vernon.b.weibel@ice.dhs.gov  User\n",
       "4                             abottino@sacsheriff.com  User\n",
       "...                                               ...   ...\n",
       "1374                   heather.k.capeles.civ@mail.mil  User\n",
       "1375       michael.parris@westyorkshire.pnn.police.uk  User\n",
       "1376           matthew.lavery@hampshire.pnn.police.uk  User\n",
       "1377                        SConley@grandforksgov.com  User\n",
       "1378                        shaun.martin@honolulu.gov  User\n",
       "\n",
       "[1237 rows x 2 columns]"
      ]
     },
     "execution_count": 66,
     "metadata": {},
     "output_type": "execute_result"
    }
   ],
   "source": [
    "usrData.loc[usrData.isEnabled == True, ['Email', 'Roles']]"
   ]
  },
  {
   "cell_type": "code",
   "execution_count": 53,
   "metadata": {},
   "outputs": [
    {
     "data": {
      "text/html": [
       "<div>\n",
       "<style scoped>\n",
       "    .dataframe tbody tr th:only-of-type {\n",
       "        vertical-align: middle;\n",
       "    }\n",
       "\n",
       "    .dataframe tbody tr th {\n",
       "        vertical-align: top;\n",
       "    }\n",
       "\n",
       "    .dataframe thead th {\n",
       "        text-align: right;\n",
       "    }\n",
       "</style>\n",
       "<table border=\"1\" class=\"dataframe\">\n",
       "  <thead>\n",
       "    <tr style=\"text-align: right;\">\n",
       "      <th></th>\n",
       "      <th>Email</th>\n",
       "      <th>Roles</th>\n",
       "    </tr>\n",
       "  </thead>\n",
       "  <tbody>\n",
       "    <tr>\n",
       "      <th>0</th>\n",
       "      <td>cgarton@uncharted.software</td>\n",
       "      <td>User</td>\n",
       "    </tr>\n",
       "    <tr>\n",
       "      <th>1</th>\n",
       "      <td>YMWATSON@FBI.GOV</td>\n",
       "      <td>User</td>\n",
       "    </tr>\n",
       "    <tr>\n",
       "      <th>2</th>\n",
       "      <td>Alice.Gabanski-O'Connor@westyorkshire.police.uk</td>\n",
       "      <td>User</td>\n",
       "    </tr>\n",
       "    <tr>\n",
       "      <th>3</th>\n",
       "      <td>vernon.b.weibel@ice.dhs.gov</td>\n",
       "      <td>User</td>\n",
       "    </tr>\n",
       "    <tr>\n",
       "      <th>4</th>\n",
       "      <td>abottino@sacsheriff.com</td>\n",
       "      <td>User</td>\n",
       "    </tr>\n",
       "  </tbody>\n",
       "</table>\n",
       "</div>"
      ],
      "text/plain": [
       "                                             Email Roles\n",
       "0                       cgarton@uncharted.software  User\n",
       "1                                 YMWATSON@FBI.GOV  User\n",
       "2  Alice.Gabanski-O'Connor@westyorkshire.police.uk  User\n",
       "3                      vernon.b.weibel@ice.dhs.gov  User\n",
       "4                          abottino@sacsheriff.com  User"
      ]
     },
     "execution_count": 53,
     "metadata": {},
     "output_type": "execute_result"
    }
   ],
   "source": [
    "usrData[['Email', 'Roles']].head()"
   ]
  },
  {
   "cell_type": "code",
   "execution_count": null,
   "metadata": {},
   "outputs": [],
   "source": []
  }
 ],
 "metadata": {
  "kernelspec": {
   "display_name": "py36",
   "language": "python",
   "name": "py36"
  },
  "language_info": {
   "codemirror_mode": {
    "name": "ipython",
    "version": 3
   },
   "file_extension": ".py",
   "mimetype": "text/x-python",
   "name": "python",
   "nbconvert_exporter": "python",
   "pygments_lexer": "ipython3",
   "version": "3.6.10"
  }
 },
 "nbformat": 4,
 "nbformat_minor": 4
}
